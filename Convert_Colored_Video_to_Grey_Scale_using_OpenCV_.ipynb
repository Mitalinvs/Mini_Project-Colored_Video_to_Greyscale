{
  "cells": [
    {
      "cell_type": "markdown",
      "metadata": {
        "id": "view-in-github",
        "colab_type": "text"
      },
      "source": [
        "<a href=\"https://colab.research.google.com/github/Mitalinvs/Mini_Project-Colored_Video_to_Greyscale/blob/main/Convert_Colored_Video_to_Grey_Scale_using_OpenCV_.ipynb\" target=\"_parent\"><img src=\"https://colab.research.google.com/assets/colab-badge.svg\" alt=\"Open In Colab\"/></a>"
      ]
    },
    {
      "cell_type": "code",
      "execution_count": null,
      "id": "6ad32785-962e-40d7-bff9-b94d683958fb",
      "metadata": {
        "id": "6ad32785-962e-40d7-bff9-b94d683958fb"
      },
      "outputs": [],
      "source": [
        "# importing the module\n",
        "import cv2"
      ]
    },
    {
      "cell_type": "code",
      "execution_count": null,
      "id": "7d1a1329-9cc7-488c-9450-f55e2bdd2431",
      "metadata": {
        "id": "7d1a1329-9cc7-488c-9450-f55e2bdd2431"
      },
      "outputs": [],
      "source": [
        "# reading the video\n",
        "source = cv2.VideoCapture('pexels-taryn-elliott-3326576-1920x1080-24fps.mp4')"
      ]
    },
    {
      "cell_type": "code",
      "execution_count": null,
      "id": "7044213c-1e19-4885-ab7e-2053d9b57e13",
      "metadata": {
        "id": "7044213c-1e19-4885-ab7e-2053d9b57e13"
      },
      "outputs": [],
      "source": [
        "# running the loop\n",
        "while True:\n",
        "\n",
        "    # extracting the frames\n",
        "    ret, img = source.read()\n",
        "    if not ret:\n",
        "        break\n",
        "\n",
        "    # converting to gray-scale\n",
        "    gray = cv2.cvtColor(img, cv2.COLOR_BGR2GRAY)\n",
        "\n",
        "    # displaying the video (cv2.imshow() is disabled in Colab, because it causes Jupyter sessions to crash- RUN IN JUPYTER NOTEBOOK)\n",
        "    cv2.imshow(\"Live\", gray)\n",
        "\n",
        "    # exiting the loop using 'q' key\n",
        "    key = cv2.waitKey(1)\n",
        "    if key == ord(\"q\"):\n",
        "        break"
      ]
    },
    {
      "cell_type": "code",
      "execution_count": null,
      "id": "f5ea118f-077d-48bd-8d64-d3f217bafaa8",
      "metadata": {
        "id": "f5ea118f-077d-48bd-8d64-d3f217bafaa8"
      },
      "outputs": [],
      "source": [
        "# closing the window\n",
        "cv2.destroyAllWindows()\n",
        "source.release()"
      ]
    }
  ],
  "metadata": {
    "kernelspec": {
      "display_name": "Python 3 (ipykernel)",
      "language": "python",
      "name": "python3"
    },
    "language_info": {
      "codemirror_mode": {
        "name": "ipython",
        "version": 3
      },
      "file_extension": ".py",
      "mimetype": "text/x-python",
      "name": "python",
      "nbconvert_exporter": "python",
      "pygments_lexer": "ipython3",
      "version": "3.10.9"
    },
    "colab": {
      "provenance": [],
      "include_colab_link": true
    }
  },
  "nbformat": 4,
  "nbformat_minor": 5
}