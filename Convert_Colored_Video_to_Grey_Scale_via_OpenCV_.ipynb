{
  "nbformat": 4,
  "nbformat_minor": 0,
  "metadata": {
    "colab": {
      "provenance": [],
      "authorship_tag": "ABX9TyNxTMNOW2JbPAY0WwQ+SDTF",
      "include_colab_link": true
    },
    "kernelspec": {
      "name": "python3",
      "display_name": "Python 3"
    },
    "language_info": {
      "name": "python"
    }
  },
  "cells": [
    {
      "cell_type": "markdown",
      "metadata": {
        "id": "view-in-github",
        "colab_type": "text"
      },
      "source": [
        "<a href=\"https://colab.research.google.com/github/Mitalinvs/Mini_Project-Colored_Video_to_Greyscale/blob/main/Convert_Colored_Video_to_Grey_Scale_via_OpenCV_.ipynb\" target=\"_parent\"><img src=\"https://colab.research.google.com/assets/colab-badge.svg\" alt=\"Open In Colab\"/></a>"
      ]
    },
    {
      "cell_type": "code",
      "source": [
        "# importing the module\n",
        "import cv2"
      ],
      "metadata": {
        "id": "ueBHDaRX3csU"
      },
      "execution_count": 1,
      "outputs": []
    },
    {
      "cell_type": "code",
      "source": [
        "# reading the video\n",
        "source = cv2.VideoCapture('/content/17. Video for convert to Grayscale.mp4')"
      ],
      "metadata": {
        "id": "sWspTDTN3fsG"
      },
      "execution_count": 2,
      "outputs": []
    },
    {
      "cell_type": "code",
      "source": [
        "# Getting video properties\n",
        "fps = source.get(cv2.CAP_PROP_FPS)\n",
        "width = int(source.get(cv2.CAP_PROP_FRAME_WIDTH))\n",
        "height = int(source.get(cv2.CAP_PROP_FRAME_HEIGHT))\n",
        "\n",
        "# Creating a VideoWriter object to save the grayscale video\n",
        "output = cv2.VideoWriter('grayscale_video.mp4', cv2.VideoWriter_fourcc(*'mp4v'), fps, (width, height), isColor=False)"
      ],
      "metadata": {
        "id": "tyfmTjNS4AjN"
      },
      "execution_count": 3,
      "outputs": []
    },
    {
      "cell_type": "code",
      "source": [
        "# running the loop\n",
        "while True:\n",
        "\n",
        "    # extracting the frames\n",
        "    ret, img = source.read()\n",
        "    if not ret:\n",
        "        break\n",
        "\n",
        "    # converting to gray-scale\n",
        "    gray = cv2.cvtColor(img, cv2.COLOR_BGR2GRAY)\n",
        "\n",
        "    # Saving the grayscale frame to the output video\n",
        "    output.write(gray)\n",
        "\n",
        "    # exiting the loop using 'q' key\n",
        "    key = cv2.waitKey(1)\n",
        "    if key == ord(\"q\"):\n",
        "        break"
      ],
      "metadata": {
        "id": "kg5dqVUc3iCC"
      },
      "execution_count": 4,
      "outputs": []
    },
    {
      "cell_type": "code",
      "source": [
        "# closing the window\n",
        "cv2.destroyAllWindows()\n",
        "source.release()\n",
        "output.release()"
      ],
      "metadata": {
        "id": "XAjhMr4Y3j1_"
      },
      "execution_count": 5,
      "outputs": []
    }
  ]
}